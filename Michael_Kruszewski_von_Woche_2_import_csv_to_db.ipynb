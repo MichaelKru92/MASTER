{
  "nbformat": 4,
  "nbformat_minor": 0,
  "metadata": {
    "colab": {
      "provenance": [],
      "collapsed_sections": [
        "q901YrvziiI0"
      ],
      "include_colab_link": true
    },
    "kernelspec": {
      "name": "python3",
      "display_name": "Python 3"
    },
    "language_info": {
      "name": "python"
    }
  },
  "cells": [
    {
      "cell_type": "markdown",
      "metadata": {
        "id": "view-in-github",
        "colab_type": "text"
      },
      "source": [
        "<a href=\"https://colab.research.google.com/github/MichaelKru92/MASTER/blob/main/Michael_Kruszewski_von_Woche_2_import_csv_to_db.ipynb\" target=\"_parent\"><img src=\"https://colab.research.google.com/assets/colab-badge.svg\" alt=\"Open In Colab\"/></a>"
      ]
    },
    {
      "cell_type": "markdown",
      "source": [
        "# 1. Github Repository klonen\n",
        "Damit Sie die CSV-Dateien direkt aus dem angegebenen GitHub-Repository laden können, klonen Sie das Repository in Ihrer Colab-Umgebung.\n",
        "\n",
        "Danach sind alle CSV-Dateien (allergies.csv, careplans.csv, conditions.csv, devices.csv, encounters.csv, imaging_studies.csv, immunizations.csv, medications.csv) lokal verfügbar (im Ordner synthea_data/).\n"
      ],
      "metadata": {
        "id": "MXd7HlkFgZZp"
      }
    },
    {
      "cell_type": "code",
      "source": [
        "!git clone https://github.com/gaetanwabo/synthea_data.git\n"
      ],
      "metadata": {
        "id": "3zTo3U1FvXra",
        "colab": {
          "base_uri": "https://localhost:8080/"
        },
        "outputId": "5de0297e-41bf-495e-ba68-cbc0ee8bbffb"
      },
      "execution_count": 30,
      "outputs": [
        {
          "output_type": "stream",
          "name": "stdout",
          "text": [
            "fatal: destination path 'synthea_data' already exists and is not an empty directory.\n"
          ]
        }
      ]
    },
    {
      "cell_type": "markdown",
      "source": [
        "# 2. Tabellenstruktur und Datenbankerstellung\n",
        "In den nächsten Schritten wird eine neue SQLite-Datenbank angelegt und alle benötigten Tabellen erstellt. Die SQL-Befehle basieren auf den vorgegebenen Tabellenstrukturen"
      ],
      "metadata": {
        "id": "XJUilXlvhpMf"
      }
    },
    {
      "cell_type": "code",
      "source": [
        "import sqlite3\n",
        "import csv\n",
        "import os\n",
        "\n",
        "# Legen Sie eine neue SQLite-Datenbank an (bzw. verbinden sich mit einer bestehenden).\n",
        "conn = sqlite3.connect(\"synthea.db\")\n",
        "cursor = conn.cursor()\n",
        "\n",
        "# ----------------------------------------------------------------------------\n",
        "# 1) Definition aller Tabellen per SQL\n",
        "# ----------------------------------------------------------------------------\n",
        "\n",
        "sql_table = {}\n",
        "\n",
        "sql_table[\"patients\"] = \"\"\"CREATE TABLE IF NOT EXISTS patients (\n",
        "    Id STRING PRIMARY KEY,\n",
        "    BIRTHDATE DATE,\n",
        "    DEATHDATE DATE,\n",
        "    SSN STRING,\n",
        "    DRIVERS STRING,\n",
        "    PASSPORT STRING,\n",
        "    PREFIX STRING,\n",
        "    FIRST STRING,\n",
        "    LAST STRING,\n",
        "    SUFFIX STRING,\n",
        "    MAIDEN STRING,\n",
        "    MARITAL STRING,\n",
        "    RACE STRING,\n",
        "    ETHNICITY STRING,\n",
        "    GENDER STRING,\n",
        "    BIRTHPLACE STRING,\n",
        "    ADDRESS STRING,\n",
        "    CITY STRING,\n",
        "    STATE STRING,\n",
        "    COUNTRY STRING,\n",
        "    ZIP STRING,\n",
        "    LAT INTEGER,\n",
        "    LON INTEGER,\n",
        "    HEALTHCARE_EXPENSES INTEGER,\n",
        "    HEALTHCARE_COVERAGE INTEGER\n",
        ");\"\"\"\n",
        "\n",
        "sql_table[\"encounters\"] = \"\"\"CREATE TABLE IF NOT EXISTS encounters (\n",
        "    Id STRING PRIMARY KEY,\n",
        "    START DATE,\n",
        "    STOP DATE,\n",
        "    PATIENT STRING,\n",
        "    ORGANIZATION STRING,  -- statt ORGANIZATIONS\n",
        "    PROVIDER STRING,\n",
        "    PAYER STRING,\n",
        "    ENCOUNTERCLASS STRING,\n",
        "    CODE STRING,\n",
        "    DESCRIPTION STRING,\n",
        "    BASE_ENCOUNTER_COST INTEGER,\n",
        "    TOTAL_CLAIM_COST INTEGER,\n",
        "    PAYER_COVERAGE INTEGER,\n",
        "    REASONCODE STRING,\n",
        "    REASONDESCRIPTION STRING,\n",
        "    FOREIGN KEY (PATIENT) REFERENCES patients (Id)\n",
        ");\"\"\"\n",
        "\n",
        "sql_table[\"careplans\"] = \"\"\"CREATE TABLE IF NOT EXISTS careplans (\n",
        "    Id STRING PRIMARY KEY,\n",
        "    START DATE,\n",
        "    STOP DATE,\n",
        "    PATIENT STRING,\n",
        "    ENCOUNTER STRING,\n",
        "    CODE STRING,\n",
        "    DESCRIPTION STRING,\n",
        "    REASONCODE STRING,\n",
        "    REASONDESCRIPTION STRING,\n",
        "    FOREIGN KEY (PATIENT) REFERENCES patients (Id),\n",
        "    FOREIGN KEY (ENCOUNTER) REFERENCES encounters (Id)\n",
        ");\"\"\"\n",
        "\n",
        "sql_table[\"conditions\"] = \"\"\"CREATE TABLE IF NOT EXISTS conditions (\n",
        "    START DATE,\n",
        "    STOP DATE,\n",
        "    PATIENT STRING,\n",
        "    ENCOUNTER STRING,\n",
        "    CODE STRING,\n",
        "    DESCRIPTION STRING,\n",
        "    FOREIGN KEY (PATIENT) REFERENCES patients (Id),\n",
        "    FOREIGN KEY (ENCOUNTER) REFERENCES encounters (Id)\n",
        ");\"\"\"\n",
        "\n",
        "sql_table[\"medications\"] = \"\"\"CREATE TABLE IF NOT EXISTS medications (\n",
        "    START DATE,\n",
        "    STOP DATE,\n",
        "    PATIENT STRING,\n",
        "    PAYER STRING,\n",
        "    ENCOUNTER STRING,\n",
        "    CODE STRING,\n",
        "    DESCRIPTION STRING,\n",
        "    BASE_COST INTEGER,\n",
        "    PAYER_COVERAGE INTEGER,\n",
        "    DISPENSES INTEGER,\n",
        "    TOTALCOST INTEGER,\n",
        "    REASONCODE STRING,\n",
        "    REASONDESCRIPTION STRING,\n",
        "    FOREIGN KEY (PATIENT) REFERENCES patients (Id)\n",
        ");\"\"\"\n",
        "\n",
        "sql_table[\"procedures\"] = \"\"\"CREATE TABLE IF NOT EXISTS procedures (\n",
        "    DATE DATE,\n",
        "    PATIENT STRING,\n",
        "    ENCOUNTER STRING,\n",
        "    CODE STRING,\n",
        "    DESCRIPTION STRING,\n",
        "    BASE_COST INTEGER,\n",
        "    REASONCODE STRING,\n",
        "    REASONDESCRIPTION STRING,\n",
        "    FOREIGN KEY (PATIENT) REFERENCES patients (Id),\n",
        "    FOREIGN KEY (ENCOUNTER) REFERENCES encounters (Id)\n",
        ");\"\"\"\n",
        "\n",
        "sql_table[\"observations\"] = \"\"\"CREATE TABLE IF NOT EXISTS observations (\n",
        "    DATE DATE,\n",
        "    PATIENT STRING,\n",
        "    ENCOUNTER STRING,\n",
        "    CODE STRING,\n",
        "    DESCRIPTION STRING,\n",
        "    VALUE STRING,\n",
        "    UNITS STRING,\n",
        "    TYPE STRING,\n",
        "    FOREIGN KEY (PATIENT) REFERENCES patients (Id),\n",
        "    FOREIGN KEY (ENCOUNTER) REFERENCES encounters (Id)\n",
        ");\"\"\"\n",
        "\n",
        "sql_table[\"devices\"] = \"\"\"CREATE TABLE IF NOT EXISTS devices (\n",
        "    START DATE,\n",
        "    STOP DATE,\n",
        "    PATIENT STRING,\n",
        "    ENCOUNTER STRING,\n",
        "    CODE STRING,\n",
        "    DESCRIPTION STRING,\n",
        "    UDI STRING,\n",
        "    FOREIGN KEY (PATIENT) REFERENCES patients (Id),\n",
        "    FOREIGN KEY (ENCOUNTER) REFERENCES encounters (Id)\n",
        ");\"\"\"\n",
        "\n",
        "sql_table[\"imaging_studies\"] = \"\"\"CREATE TABLE IF NOT EXISTS imaging_studies (\n",
        "    Id STRING PRIMARY KEY,\n",
        "    DATE DATE,\n",
        "    PATIENT STRING,\n",
        "    ENCOUNTER STRING,\n",
        "    BODYSITE_CODE STRING,\n",
        "    BODYSITE_DESCRIPTION STRING,\n",
        "    MODALITY_CODE STRING,\n",
        "    MODALITY_DESCRIPTION STRING,\n",
        "    SOP_CODE STRING,\n",
        "    SOP_DESCRIPTION STRING,\n",
        "    FOREIGN KEY (PATIENT) REFERENCES patients (Id),\n",
        "    FOREIGN KEY (ENCOUNTER) REFERENCES encounters (Id)\n",
        ");\"\"\"\n",
        "\n",
        "sql_table[\"immunizations\"] = \"\"\"CREATE TABLE IF NOT EXISTS immunizations(\n",
        "    DATE DATE,\n",
        "    PATIENT STRING,\n",
        "    ENCOUNTER STRING,\n",
        "    CODE STRING,\n",
        "    DESCRIPTION STRING,\n",
        "    BASE_COST INTEGER,\n",
        "    FOREIGN KEY (PATIENT) REFERENCES patients (Id),\n",
        "    FOREIGN KEY (ENCOUNTER) REFERENCES encounters (Id)\n",
        ");\"\"\"\n",
        "\n",
        "\n",
        "# ----------------------------------------------------------------------------\n",
        "# 2) Erstellen Sie die Tabellen in der Datenbank\n",
        "# ----------------------------------------------------------------------------\n",
        "for table_name, create_statement in sql_table.items():\n",
        "    cursor.execute(create_statement)\n",
        "\n",
        "conn.commit()\n",
        "print(\"Tabellen erfolgreich erstellt.\")\n"
      ],
      "metadata": {
        "colab": {
          "base_uri": "https://localhost:8080/"
        },
        "id": "T754gr-5gvNX",
        "outputId": "3ea24257-c54d-4163-c332-9eb3d16cd86c"
      },
      "execution_count": 31,
      "outputs": [
        {
          "output_type": "stream",
          "name": "stdout",
          "text": [
            "Tabellen erfolgreich erstellt.\n"
          ]
        }
      ]
    },
    {
      "cell_type": "markdown",
      "source": [
        "# 3. CSV-Dateien importieren\n",
        "Hier werden die verfügbaren CSV-Dateien (careplans.csv, conditions.csv, devices.csv, encounters.csv, imaging_studies.csv, immunizations.csv, medications.csv) importiert. Die folgenden Tabellen sind durch die zuvor definierten SQL-Statements abgedeckt:\n",
        "\n",
        "careplans\n",
        "conditions\n",
        "devices\n",
        "imaging_studies\n",
        "immunizations\n",
        "medications\n"
      ],
      "metadata": {
        "id": "q901YrvziiI0"
      }
    },
    {
      "cell_type": "code",
      "source": [
        "# Diese Zuordnung mappt den Dateinamen zum Tabellennamen und listet die Spalten in der Reihenfolge auf,\n",
        "# in der sie eingefügt werden sollen.\n",
        "\n",
        "csv_to_table = {\n",
        "    \"careplans.csv\": {\n",
        "        \"table\": \"careplans\",\n",
        "        \"columns\": [\n",
        "            \"Id\",\"START\",\"STOP\",\"PATIENT\",\"ENCOUNTER\",\n",
        "            \"CODE\",\"DESCRIPTION\",\"REASONCODE\",\"REASONDESCRIPTION\"\n",
        "        ]\n",
        "    },\n",
        "    \"conditions.csv\": {\n",
        "        \"table\": \"conditions\",\n",
        "        \"columns\": [\"START\",\"STOP\",\"PATIENT\",\"ENCOUNTER\",\"CODE\",\"DESCRIPTION\"]\n",
        "    },\n",
        "    \"devices.csv\": {\n",
        "        \"table\": \"devices\",\n",
        "        \"columns\": [\"START\",\"STOP\",\"PATIENT\",\"ENCOUNTER\",\"CODE\",\"DESCRIPTION\",\"UDI\"]\n",
        "    },\n",
        "    \"imaging_studies.csv\": {\n",
        "        \"table\": \"imaging_studies\",\n",
        "        \"columns\": [\n",
        "            \"Id\",\"DATE\",\"PATIENT\",\"ENCOUNTER\",\"BODYSITE_CODE\",\"BODYSITE_DESCRIPTION\",\n",
        "            \"MODALITY_CODE\",\"MODALITY_DESCRIPTION\",\"SOP_CODE\",\"SOP_DESCRIPTION\"\n",
        "        ]\n",
        "    },\n",
        "    \"immunizations.csv\": {\n",
        "        \"table\": \"immunizations\",\n",
        "        \"columns\": [\"DATE\",\"PATIENT\",\"ENCOUNTER\",\"CODE\",\"DESCRIPTION\",\"BASE_COST\"]\n",
        "    },\n",
        "    \"medications.csv\": {\n",
        "        \"table\": \"medications\",\n",
        "        \"columns\": [\n",
        "            \"START\",\"STOP\",\"PATIENT\",\"PAYER\",\"ENCOUNTER\",\"CODE\",\"DESCRIPTION\",\n",
        "            \"BASE_COST\",\"PAYER_COVERAGE\",\"DISPENSES\",\"TOTALCOST\",\"REASONCODE\",\"REASONDESCRIPTION\"\n",
        "        ]\n",
        "    },\n",
        "\n",
        "      \"encounters.csv\": {  # NEU HINZUGEFÜGT\n",
        "        \"table\": \"encounters\",\n",
        "        \"columns\": [\n",
        "            \"Id\", \"START\", \"STOP\", \"PATIENT\", \"ORGANIZATION\",\n",
        "            \"PROVIDER\", \"PAYER\", \"ENCOUNTERCLASS\", \"CODE\",\n",
        "            \"DESCRIPTION\", \"BASE_ENCOUNTER_COST\", \"TOTAL_CLAIM_COST\",\n",
        "            \"PAYER_COVERAGE\", \"REASONCODE\", \"REASONDESCRIPTION\"\n",
        "            ]\n",
        "        }\n",
        "}\n",
        "\n",
        "\n",
        "# Wir durchlaufen alle vorhandenen CSV-Dateien im geklonten Repo-Ordner synthea_data\n",
        "source_folder = \"synthea_data\"\n",
        "for file_name in os.listdir(source_folder):\n",
        "    # Nur .csv-Dateien betrachten\n",
        "    if file_name.endswith(\".csv\") and file_name in csv_to_table:\n",
        "        table_info = csv_to_table[file_name]\n",
        "        table_name = table_info[\"table\"]\n",
        "        columns = table_info[\"columns\"]\n",
        "\n",
        "        # Pfad zur CSV\n",
        "        csv_path = os.path.join(source_folder, file_name)\n",
        "\n",
        "        # SQL-Insert-Statement mit passender Spaltenanzahl erstellen\n",
        "        placeholders = \",\".join([\"?\"] * len(columns))\n",
        "        col_names = \",\".join(columns)\n",
        "        insert_sql = f\"INSERT OR IGNORE INTO {table_name} ({col_names}) VALUES ({placeholders})\"\n",
        "\n",
        "        print(f\"Lade Daten aus {file_name} in Tabelle '{table_name}' ...\")\n",
        "\n",
        "        with open(csv_path, \"r\", encoding=\"utf-8\") as f:\n",
        "            reader = csv.DictReader(f)\n",
        "            to_db = []\n",
        "            for row in reader:\n",
        "                # Erstelle die Werte in der richtigen Spaltenreihenfolge\n",
        "                values = [row[col] for col in columns]\n",
        "                to_db.append(values)\n",
        "\n",
        "        # Masseninsertion in die Datenbank\n",
        "        cursor.executemany(insert_sql, to_db)\n",
        "        conn.commit()\n",
        "\n",
        "print(\"CSV-Import abgeschlossen!\")\n"
      ],
      "metadata": {
        "colab": {
          "base_uri": "https://localhost:8080/"
        },
        "id": "93J4YzW0i7CL",
        "outputId": "c03e6123-5e17-4316-b7fd-8e2a0aa98cb8"
      },
      "execution_count": 40,
      "outputs": [
        {
          "output_type": "stream",
          "name": "stdout",
          "text": [
            "Lade Daten aus encounters.csv in Tabelle 'encounters' ...\n",
            "Lade Daten aus conditions.csv in Tabelle 'conditions' ...\n",
            "Lade Daten aus imaging_studies.csv in Tabelle 'imaging_studies' ...\n",
            "Lade Daten aus medications.csv in Tabelle 'medications' ...\n",
            "Lade Daten aus immunizations.csv in Tabelle 'immunizations' ...\n",
            "Lade Daten aus devices.csv in Tabelle 'devices' ...\n",
            "Lade Daten aus careplans.csv in Tabelle 'careplans' ...\n",
            "CSV-Import abgeschlossen!\n"
          ]
        }
      ]
    },
    {
      "cell_type": "code",
      "source": [
        "!drop table encounters;"
      ],
      "metadata": {
        "colab": {
          "base_uri": "https://localhost:8080/"
        },
        "id": "Wiy3geNW_Jg_",
        "outputId": "e69c05a1-829a-47c3-cd75-10f637eec33b"
      },
      "execution_count": 34,
      "outputs": [
        {
          "output_type": "stream",
          "name": "stdout",
          "text": [
            "/bin/bash: line 1: drop: command not found\n"
          ]
        }
      ]
    },
    {
      "cell_type": "markdown",
      "source": [
        "#"
      ],
      "metadata": {
        "id": "QjmS2o_3muGO"
      }
    },
    {
      "cell_type": "markdown",
      "source": [
        "# 4. Erste Zeile jeder Tabelle anzeigen\n"
      ],
      "metadata": {
        "id": "T9cauwD3mzPW"
      }
    },
    {
      "cell_type": "code",
      "source": [
        "tables_to_check = [\n",
        "    \"careplans\",\n",
        "    \"conditions\",\n",
        "    \"devices\",\n",
        "    \"imaging_studies\",\n",
        "    \"immunizations\",\n",
        "    \"medications\"\n",
        "]\n",
        "\n",
        "for t in tables_to_check:\n",
        "    print(f\"\\nErste Zeile aus Tabelle '{t}':\")\n",
        "    cursor.execute(f\"SELECT * FROM {t} LIMIT 5\")\n",
        "    row = cursor.fetchone()\n",
        "    print(row)\n",
        "\n",
        "# Verbindung schließen (ggf. offen lassen, solange Sie Abfragen ausführen wollen)\n",
        "#conn.close()\n"
      ],
      "metadata": {
        "colab": {
          "base_uri": "https://localhost:8080/"
        },
        "id": "5y1a21PymOBl",
        "outputId": "a92c30d6-8aa0-4814-8fc9-9140cc813550"
      },
      "execution_count": 35,
      "outputs": [
        {
          "output_type": "stream",
          "name": "stdout",
          "text": [
            "\n",
            "Erste Zeile aus Tabelle 'careplans':\n",
            "('d2500b8c-e830-433a-8b9d-368d30741520', '2010-01-23', '2012-01-23', '034e9e3b-2def-4559-bb2a-7850888ae060', 'd0c40d10-8d87-447e-836e-99d26ad52ea5', 53950000, 'Respiratory therapy', 10509002, 'Acute bronchitis (disorder)')\n",
            "\n",
            "Erste Zeile aus Tabelle 'conditions':\n",
            "('2001-05-01', '', '1d604da9-9a81-4ba9-80c2-de3375d59b40', '8f104aa7-4ca9-4473-885a-bba2437df588', 40055000, 'Chronic sinusitis (disorder)')\n",
            "\n",
            "Erste Zeile aus Tabelle 'devices':\n",
            "('2001-07-04T08:42:44Z', '', 'd49f748f-928d-40e8-92c8-73e4c5679711', '2500b8bd-dc98-44ef-a252-22dc4f81d61b', 72506001, 'Implantable defibrillator  device (physical object)', '(01)67677988606464(11)010613(17)260628(10)2882441934(21)7849600052')\n",
            "\n",
            "Erste Zeile aus Tabelle 'imaging_studies':\n",
            "('d3e49b38-7634-4416-879d-7bc68bf3e7df', '2014-07-08T15:35:36Z', 'b58731cc-2d8b-4c2d-b327-4cab771af3ef', '3a36836d-da25-4e73-808b-972b669b7e4e', 40983000, 'Arm', 'DX', 'Digital Radiography', '1.2.840.10008.5.1.4.1.1.1.1', 'Digital X-Ray Image Storage')\n",
            "\n",
            "Erste Zeile aus Tabelle 'immunizations':\n",
            "('2010-07-27T12:58:08Z', '10339b10-3cd1-4ac3-ac13-ec26728cb592', 'dae2b7cb-1316-4b78-954f-fa610a6c6d0e', 140, 'Influenza  seasonal  injectable  preservative free', 140.52)\n",
            "\n",
            "Erste Zeile aus Tabelle 'medications':\n",
            "('2010-05-05T00:26:23Z', '2011-04-30T00:26:23Z', '8d4c4326-e9de-4f45-9a4c-f8c36bff89ae', 'b1c428d6-4f07-31e0-90f0-68ffa6ff8c76', '1e0d6b0e-1711-4a25-99f9-b1c700c9b260', 389221, 'Etonogestrel 68 MG Drug Implant', 677.08, 0, 12, 8124.96, '', '')\n"
          ]
        }
      ]
    },
    {
      "cell_type": "code",
      "source": [
        "# Daten Ausgeben\n",
        "cursor.execute(\"SELECT * FROM medications\")\n",
        "record = cursor.fetchone()\n",
        "print(record)"
      ],
      "metadata": {
        "id": "qLMeRSr0qGsg",
        "colab": {
          "base_uri": "https://localhost:8080/"
        },
        "outputId": "8b09a8dd-3068-4d5c-ba64-95980d4def1f"
      },
      "execution_count": 36,
      "outputs": [
        {
          "output_type": "stream",
          "name": "stdout",
          "text": [
            "('2010-05-05T00:26:23Z', '2011-04-30T00:26:23Z', '8d4c4326-e9de-4f45-9a4c-f8c36bff89ae', 'b1c428d6-4f07-31e0-90f0-68ffa6ff8c76', '1e0d6b0e-1711-4a25-99f9-b1c700c9b260', 389221, 'Etonogestrel 68 MG Drug Implant', 677.08, 0, 12, 8124.96, '', '')\n"
          ]
        }
      ]
    },
    {
      "cell_type": "markdown",
      "source": [],
      "metadata": {
        "id": "IvocH9nhhdf_"
      }
    },
    {
      "cell_type": "markdown",
      "source": [
        "# Aufgabe\n",
        "\n",
        "Die Tabelle encounters ist noch nicht vollständig angelegt.\n",
        "\n",
        "1. Legen Sie die encounters Tabellen entsprechend der obigen Beispielcode an\n",
        "\n",
        "2. Finden Sie alle Einträge in der Tabelle encounters, bei denen der ENCOUNTERCLASS z.B. urgentcare ist."
      ],
      "metadata": {
        "id": "Uy7umALSnhjE"
      }
    },
    {
      "cell_type": "code",
      "source": [
        "#Bitte folgende Code entsprechend anpasssen\n",
        "import sqlite3\n",
        "\n",
        "# Verbindung zur SQLite-Datenbank herstellen (bzw. Datei erstellen)\n",
        "conn = sqlite3.connect(\"synthea.db\")\n",
        "cursor = conn.cursor()\n",
        "\n",
        "# SQL-Statement zum Erstellen der encounters-Tabelle\n",
        "create_encounters_table = \"\"\"\n",
        "CREATE TABLE IF NOT EXISTS encounters (\n",
        "    Id STRING PRIMARY KEY,\n",
        "    START DATE,\n",
        "    STOP DATE,\n",
        "    PATIENT STRING,\n",
        "    ORGANIZATION STRING,\n",
        "    PROVIDER STRING,\n",
        "    PAYER STRING,\n",
        "    ENCOUNTERCLASS STRING,\n",
        "    CODE STRING,\n",
        "    DESCRIPTION STRING,\n",
        "    BASE_ENCOUNTER_COST INTEGER,\n",
        "    TOTAL_CLAIM_COST INTEGER,\n",
        "    PAYER_COVERAGE INTEGER,\n",
        "    REASONCODE STRING,\n",
        "    REASONDESCRIPTION STRING,\n",
        "    FOREIGN KEY (PATIENT) REFERENCES patients (Id)\n",
        ");\n",
        "\"\"\"\n",
        "\n",
        "# Tabelle erstellen\n",
        "cursor.execute(create_encounters_table)\n",
        "\n",
        "# Änderungen speichern und Verbindung schließen\n",
        "conn.commit()\n",
        "#conn.close()\n",
        "\n",
        "\n",
        "\n",
        "print(\"Tabelle 'encounters' wurde erfolgreich erstellt.\")\n"
      ],
      "metadata": {
        "colab": {
          "base_uri": "https://localhost:8080/"
        },
        "id": "qm2NTrELyiDd",
        "outputId": "8e239fd4-95c8-4e98-a3ad-e7d681d38eca"
      },
      "execution_count": 37,
      "outputs": [
        {
          "output_type": "stream",
          "name": "stdout",
          "text": [
            "Tabelle 'encounters' wurde erfolgreich erstellt.\n"
          ]
        }
      ]
    },
    {
      "cell_type": "code",
      "source": [
        "conn = sqlite3.connect(\"synthea.db\")\n",
        "cursor = conn.cursor()\n",
        "\n",
        "cursor.execute(\"SELECT * FROM encounters WHERE ENCOUNTERCLASS = 'urgentcare'\")\n",
        "results = cursor.fetchall()\n",
        "\n",
        "print(\"Anzahl Treffer:\", len(results))\n",
        "for row in results[:5]:  # Nur die ersten 5 ausgeben\n",
        "    print(row)"
      ],
      "metadata": {
        "colab": {
          "base_uri": "https://localhost:8080/"
        },
        "id": "M_tzf_XiowGc",
        "outputId": "14e54ac9-e8b9-40fa-b91a-7e0b6797948e"
      },
      "execution_count": 38,
      "outputs": [
        {
          "output_type": "stream",
          "name": "stdout",
          "text": [
            "Anzahl Treffer: 2373\n",
            "('04f69a96-6f77-4ca6-95f5-b7a45bb9e476', '2011-05-24T12:58:08Z', '2011-05-24T13:13:08Z', '10339b10-3cd1-4ac3-ac13-ec26728cb592', 'a9afd4c9-8443-3b5a-a486-07c3bb109b3f', '08703819-4d5c-3998-9de3-6ef611285bbc', 'd47b3510-2895-3b70-9897-342d681c769d', 'urgentcare', 702927004, 'Urgent care clinic (procedure)', 129.16, 129.16, 0, '', '')\n",
            "('ae056eca-c1b1-45e5-870b-d4127c33bfa4', '2019-04-30T12:58:08Z', '2019-04-30T13:13:08Z', '10339b10-3cd1-4ac3-ac13-ec26728cb592', 'a9afd4c9-8443-3b5a-a486-07c3bb109b3f', '08703819-4d5c-3998-9de3-6ef611285bbc', 'd47b3510-2895-3b70-9897-342d681c769d', 'urgentcare', 702927004, 'Urgent care clinic (procedure)', 129.16, 129.16, 0, '', '')\n",
            "('e20a6a4d-343d-479d-9730-fbc4447364f9', '2017-11-11T06:21:56Z', '2017-11-11T06:36:56Z', 'b1e9b0b9-da6e-4f68-b603-bd896a50ca86', '4e916854-3a59-3f17-bb16-7c406148d822', '93f77048-5bfd-3a59-9ae4-4399fbd77398', '4d71f845-a6a9-3c39-b242-14d25ef86a8d', 'urgentcare', 702927004, 'Urgent care clinic (procedure)', 129.16, 129.16, 0, '', '')\n",
            "('e05ebe9a-3a02-4888-b83b-b03044adbcb1', '2003-05-20T20:46:46Z', '2003-05-20T21:01:46Z', '71ba0469-f0cc-4177-ac70-ea07cb01c8b8', 'd672f853-e2a5-324e-98fa-c6d5f8dfc255', '40371261-c4fb-3fba-b3d1-60f47aa0e68f', '6e2f1a2d-27bd-3701-8d08-dae202c58632', 'urgentcare', 702927004, 'Urgent care clinic (procedure)', 129.16, 129.16, 0, '', '')\n",
            "('770fe851-e8c6-45fa-9a48-b4eb071db1fc', '2008-05-06T20:46:46Z', '2008-05-06T21:01:46Z', '71ba0469-f0cc-4177-ac70-ea07cb01c8b8', 'd672f853-e2a5-324e-98fa-c6d5f8dfc255', '40371261-c4fb-3fba-b3d1-60f47aa0e68f', '6e2f1a2d-27bd-3701-8d08-dae202c58632', 'urgentcare', 702927004, 'Urgent care clinic (procedure)', 129.16, 129.16, 0, '', '')\n"
          ]
        }
      ]
    },
    {
      "cell_type": "code",
      "source": [],
      "metadata": {
        "id": "NP69D5BTyg1I"
      },
      "execution_count": null,
      "outputs": []
    },
    {
      "cell_type": "markdown",
      "source": [],
      "metadata": {
        "id": "HkP0WUewpu0D"
      }
    },
    {
      "cell_type": "markdown",
      "source": [
        "# Neuer Abschnitt"
      ],
      "metadata": {
        "id": "m_L_4ODDptUt"
      }
    }
  ]
}